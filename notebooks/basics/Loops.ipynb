{
 "cells": [
  {
   "cell_type": "code",
   "execution_count": null,
   "id": "06abfbf9-6a6c-4b68-af44-06e39819e256",
   "metadata": {},
   "outputs": [],
   "source": [
    "#created on: 21.06.25"
   ]
  },
  {
   "cell_type": "code",
   "execution_count": 2,
   "id": "b57d4ee3-1ff2-43ed-a98d-da3f25fe62d6",
   "metadata": {},
   "outputs": [],
   "source": [
    "#https://www.w3schools.com/python/python_for_loops.asp\n",
    "#https://www.w3schools.com/python/python_while_loops.asp"
   ]
  },
  {
   "cell_type": "code",
   "execution_count": 1,
   "id": "f29f49de-985c-47ff-84be-75224a4c8cdc",
   "metadata": {},
   "outputs": [
    {
     "name": "stdout",
     "output_type": "stream",
     "text": [
      "1\n",
      "2\n",
      "3\n",
      "4\n"
     ]
    }
   ],
   "source": [
    "#while loop\n",
    "i = 1\n",
    "while i < 5:\n",
    "  print(i)\n",
    "  i += 1"
   ]
  },
  {
   "cell_type": "code",
   "execution_count": null,
   "id": "38f8cbd4-2fd5-42fe-a448-6cd07c291fb0",
   "metadata": {},
   "outputs": [],
   "source": [
    "#for loop"
   ]
  },
  {
   "cell_type": "code",
   "execution_count": 5,
   "id": "e141d50c-710a-4984-a62a-094ad9fcafe0",
   "metadata": {},
   "outputs": [
    {
     "name": "stdout",
     "output_type": "stream",
     "text": [
      "0\n",
      "1\n",
      "2\n",
      "3\n"
     ]
    }
   ],
   "source": [
    "for i in range(4):\n",
    "    print(i)"
   ]
  },
  {
   "cell_type": "code",
   "execution_count": 4,
   "id": "9ca00a42-42c2-48ce-96b3-0d2380ace176",
   "metadata": {},
   "outputs": [
    {
     "name": "stdout",
     "output_type": "stream",
     "text": [
      "car\n",
      "bus\n",
      "van\n"
     ]
    }
   ],
   "source": [
    "fruits = [\"car\", \"bus\", \"van\"]\n",
    "for x in fruits:\n",
    "  print(x) "
   ]
  },
  {
   "cell_type": "code",
   "execution_count": null,
   "id": "432fecd3-c02b-484a-a6d8-29e5bc7eec38",
   "metadata": {},
   "outputs": [],
   "source": []
  }
 ],
 "metadata": {
  "kernelspec": {
   "display_name": "Python 3 (ipykernel)",
   "language": "python",
   "name": "python3"
  },
  "language_info": {
   "codemirror_mode": {
    "name": "ipython",
    "version": 3
   },
   "file_extension": ".py",
   "mimetype": "text/x-python",
   "name": "python",
   "nbconvert_exporter": "python",
   "pygments_lexer": "ipython3",
   "version": "3.12.9"
  }
 },
 "nbformat": 4,
 "nbformat_minor": 5
}
