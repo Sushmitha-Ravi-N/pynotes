{
 "cells": [
  {
   "cell_type": "code",
   "execution_count": null,
   "id": "dc7f41f9-f352-4935-a6eb-fc8ef2217f5f",
   "metadata": {},
   "outputs": [],
   "source": [
    "#created on: 21.06.25"
   ]
  },
  {
   "cell_type": "code",
   "execution_count": null,
   "id": "46b34034-758a-498d-be6c-6c9463a18174",
   "metadata": {},
   "outputs": [],
   "source": [
    "#https://www.w3schools.com/python/python_conditions.asp"
   ]
  },
  {
   "cell_type": "code",
   "execution_count": 2,
   "id": "0dc97e01-b5c1-4295-952a-a9cff8720aed",
   "metadata": {},
   "outputs": [
    {
     "name": "stdout",
     "output_type": "stream",
     "text": [
      "a is greater than b\n"
     ]
    }
   ],
   "source": [
    "a = 30\n",
    "b = 20\n",
    "if b > a:\n",
    "    print(\"b is greater than a\")\n",
    "else:\n",
    "    print(\"a is greater than b\")"
   ]
  },
  {
   "cell_type": "code",
   "execution_count": 4,
   "id": "4be41f2c-863f-4c67-aa5b-f4d451d3ce7b",
   "metadata": {},
   "outputs": [
    {
     "name": "stdout",
     "output_type": "stream",
     "text": [
      "a is divisible by 15\n"
     ]
    }
   ],
   "source": [
    "a = 45\n",
    "if a%15 == 0:\n",
    "    print(\"a is divisible by 15\")"
   ]
  },
  {
   "cell_type": "code",
   "execution_count": 6,
   "id": "024951de-c933-45d3-9ac4-953c8b0ac996",
   "metadata": {},
   "outputs": [
    {
     "name": "stdout",
     "output_type": "stream",
     "text": [
      "a is not divisible by 2 and 3\n"
     ]
    }
   ],
   "source": [
    "a = 7\n",
    "if a%2 == 0:\n",
    "    print(\"a is divisible by 2\")\n",
    "elif a%3 == 0:\n",
    "    print(\"a is divisible by 3\")\n",
    "else:\n",
    "    print(\"a is not divisible by 2 and 3\")"
   ]
  },
  {
   "cell_type": "code",
   "execution_count": null,
   "id": "43afd3b3-aa5a-4e91-b073-45cfccd68412",
   "metadata": {},
   "outputs": [],
   "source": []
  }
 ],
 "metadata": {
  "kernelspec": {
   "display_name": "Python 3 (ipykernel)",
   "language": "python",
   "name": "python3"
  },
  "language_info": {
   "codemirror_mode": {
    "name": "ipython",
    "version": 3
   },
   "file_extension": ".py",
   "mimetype": "text/x-python",
   "name": "python",
   "nbconvert_exporter": "python",
   "pygments_lexer": "ipython3",
   "version": "3.12.9"
  }
 },
 "nbformat": 4,
 "nbformat_minor": 5
}
