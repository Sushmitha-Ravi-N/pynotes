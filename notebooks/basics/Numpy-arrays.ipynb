{
 "cells": [
  {
   "cell_type": "code",
   "execution_count": null,
   "id": "8be3b7e0-d0f2-42b2-b41d-8ca187754526",
   "metadata": {},
   "outputs": [],
   "source": [
    "#created on: 21.06.25"
   ]
  },
  {
   "cell_type": "code",
   "execution_count": null,
   "id": "8701e635-4be3-4eb1-b2c7-6f655bfc0a1d",
   "metadata": {},
   "outputs": [],
   "source": [
    "#https://www.geeksforgeeks.org/python/python-arrays/"
   ]
  },
  {
   "cell_type": "code",
   "execution_count": 6,
   "id": "03c8ba3e-2323-4f6f-93cb-780b0427efc8",
   "metadata": {},
   "outputs": [
    {
     "name": "stdout",
     "output_type": "stream",
     "text": [
      "[1 2 3 4]\n",
      "[2 4 6 8]\n",
      "\n",
      "[[1 2]\n",
      " [3 4]]\n",
      "[[2 4]\n",
      " [6 8]]\n"
     ]
    }
   ],
   "source": [
    "import numpy as np\n",
    "\n",
    "arr = np.array([1, 2, 3, 4])\n",
    "print(arr)\n",
    "print(arr * 2)  \n",
    "\n",
    "# Multi-dimensional array\n",
    "arr2d = np.array([[1, 2], [3, 4]])\n",
    "print()\n",
    "print(arr2d)\n",
    "print(arr2d * 2)\n",
    "\n"
   ]
  },
  {
   "cell_type": "code",
   "execution_count": null,
   "id": "a95a15fe-3363-4305-b61f-05119fc79d8b",
   "metadata": {},
   "outputs": [],
   "source": []
  }
 ],
 "metadata": {
  "kernelspec": {
   "display_name": "Python 3 (ipykernel)",
   "language": "python",
   "name": "python3"
  },
  "language_info": {
   "codemirror_mode": {
    "name": "ipython",
    "version": 3
   },
   "file_extension": ".py",
   "mimetype": "text/x-python",
   "name": "python",
   "nbconvert_exporter": "python",
   "pygments_lexer": "ipython3",
   "version": "3.12.9"
  }
 },
 "nbformat": 4,
 "nbformat_minor": 5
}
